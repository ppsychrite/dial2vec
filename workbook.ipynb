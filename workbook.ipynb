{
 "cells": [
  {
   "cell_type": "code",
   "execution_count": 1,
   "metadata": {},
   "outputs": [
    {
     "name": "stderr",
     "output_type": "stream",
     "text": [
      "/Users/croarkin.kyle/Desktop/dial2vec/.venv/lib/python3.12/site-packages/tqdm/auto.py:21: TqdmWarning: IProgress not found. Please update jupyter and ipywidgets. See https://ipywidgets.readthedocs.io/en/stable/user_install.html\n",
      "  from .autonotebook import tqdm as notebook_tqdm\n"
     ]
    }
   ],
   "source": [
    "from transformers import AutoTokenizer, AutoConfig, AutoModel \n",
    "import logging \n",
    "import warnings \n",
    "import os \n",
    "from dial2vec.model import DialogueTransformer\n",
    "from dial2vec.metrics import EvaluationResult, feature_based_evaluation_at_once\n",
    "from dial2vec.data import Session, get_sessions \n",
    "import codecs\n",
    "\n",
    "model_name = \"distilbert/distilroberta-base\"\n",
    "\n",
    "model = AutoModel.from_pretrained(model_name)\n",
    "tokenizer = AutoTokenizer.from_pretrained(model_name)\n",
    "config = AutoConfig.from_pretrained(model_name)\n",
    "\n",
    "warnings.filterwarnings(\"ignore\", category=DeprecationWarning) \n",
    "\n",
    "logging.basicConfig(format='%(asctime)s - %(levelname)s - %(name)s -   %(message)s',\n",
    "                    datefmt='%m/%d/%Y %H:%M:%S',\n",
    "                    level=logging.INFO)\n",
    "logger = logging.getLogger(__name__)\n",
    "\n",
    "training_file = \"datasets/doc2dial/train.tsv\"\n",
    "testing_file = \"datasets/doc2dial/clustering_test.tsv\"\n"
   ]
  },
  {
   "cell_type": "code",
   "execution_count": 1,
   "metadata": {},
   "outputs": [],
   "source": [
    "def line_statistics(file_name):\n",
    "    with open(file_name, \"r\") as f: \n",
    "        return len(f.readlines())"
   ]
  },
  {
   "cell_type": "code",
   "execution_count": 3,
   "metadata": {},
   "outputs": [],
   "source": [
    "features = get_sessions(training_file, tokenizer, config)\n",
    "clustering_test = get_sessions(testing_file, tokenizer, config)"
   ]
  },
  {
   "cell_type": "code",
   "execution_count": 4,
   "metadata": {},
   "outputs": [],
   "source": [
    "from torch.utils.data import TensorDataset, DataLoader, RandomSampler, SequentialSampler \n",
    "import torch \n",
    "all_input_ids = torch.tensor([f.input_ids for f in features], dtype=torch.long)\n",
    "all_input_mask = torch.tensor([f.input_mask for f in features], dtype=torch.long)\n",
    "all_segment_ids = torch.tensor([f.segment_ids for f in features], dtype=torch.long)\n",
    "all_role_ids = torch.tensor([f.role_ids for f in features], dtype=torch.long)\n",
    "all_turn_ids = torch.tensor([f.turn_ids for f in features], dtype=torch.long)\n",
    "all_position_ids = torch.tensor([f.position_ids for f in features], dtype=torch.long)\n",
    "all_label_ids = torch.tensor([f.label_id for f in features], dtype=torch.long)\n",
    "\n",
    "train_data = TensorDataset(all_input_ids,\n",
    "                            all_input_mask,\n",
    "                            all_segment_ids,\n",
    "                            all_role_ids,\n",
    "                            all_turn_ids,\n",
    "                            all_position_ids,\n",
    "                            all_label_ids)\n",
    "\n",
    "train_sampler = RandomSampler(train_data)\n",
    "train_loader = DataLoader(train_data,\n",
    "                        sampler=train_sampler,\n",
    "                        batch_size=3)\n",
    "\n",
    "\n",
    "clustering_all_input_ids = torch.tensor([f.input_ids for f in clustering_test], dtype=torch.long)\n",
    "clustering_all_input_mask = torch.tensor([f.input_mask for f in clustering_test], dtype=torch.long)\n",
    "clustering_all_segment_ids = torch.tensor([f.segment_ids for f in clustering_test], dtype=torch.long)\n",
    "clustering_all_role_ids = torch.tensor([f.role_ids for f in clustering_test], dtype=torch.long)\n",
    "clustering_all_turn_ids = torch.tensor([f.turn_ids for f in clustering_test], dtype=torch.long)\n",
    "clustering_all_position_ids = torch.tensor([f.position_ids for f in clustering_test], dtype=torch.long)\n",
    "clustering_all_label_ids = torch.tensor([f.label_id for f in clustering_test], dtype=torch.long)\n",
    "\n",
    "test_data = TensorDataset(clustering_all_input_ids,\n",
    "                            clustering_all_input_mask,\n",
    "                            clustering_all_segment_ids,\n",
    "                            clustering_all_role_ids,\n",
    "                            clustering_all_turn_ids,\n",
    "                            clustering_all_position_ids,\n",
    "                            clustering_all_label_ids)\n",
    "\n",
    "torch.save(train_data, \"training_cache.pt\")\n",
    "torch.save(test_data, \"testing_cache.pt\")\n",
    "\n",
    "test_sampler = SequentialSampler(test_data)\n",
    "test_loader = DataLoader(test_data, sampler = test_sampler, batch_size = 3)"
   ]
  },
  {
   "cell_type": "code",
   "execution_count": 5,
   "metadata": {},
   "outputs": [],
   "source": [
    "\n",
    "def eval(model: DialogueTransformer):\n",
    "    model.eval()\n",
    "    features = [] \n",
    "    with torch.no_grad(): \n",
    "        for step, batch in enumerate(test_loader):\n",
    "            batch = tuple(t.to(torch.device(\"mps\")) for t in batch)\n",
    "            output_dict = model(batch)\n",
    "\n",
    "            role2feat = {'all': 'final_feature', 'p1': 'q_feature', 'p2': 'r_feature'}\n",
    "            feature = output_dict[role2feat['all']]\n",
    "            features.append(feature)\n",
    "        features = torch.cat(features)\n",
    "\n",
    "\n",
    "    with codecs.open(testing_file, \"r\", \"utf-8\") as f:\n",
    "        labels = [int(line.strip('\\n').split(\"\\t\")[-1]) for line in f]\n",
    "    evaluation_result = EvaluationResult()\n",
    "\n",
    "    n_average = max(3, 10 - features.shape[0] // 500)\n",
    "    er = feature_based_evaluation_at_once(features=features.cpu(),\n",
    "                                            labels=labels,\n",
    "                                            n_average=n_average,\n",
    "                                            tasks=['clustering'],\n",
    "                                            dtype='float32')\n",
    "    evaluation_result.RI = er.RI\n",
    "    evaluation_result.NMI = er.NMI\n",
    "    evaluation_result.acc = er.acc\n",
    "    evaluation_result.purity = er.purity\n",
    "\n",
    "    return evaluation_result "
   ]
  },
  {
   "cell_type": "code",
   "execution_count": 6,
   "metadata": {},
   "outputs": [],
   "source": [
    "from dial2vec.optimization import BERTAdam\n",
    "\n",
    "\n",
    "d2vmodel = DialogueTransformer(model, config, tokenizer, logger).to(torch.device(\"mps\"))\n",
    "\n",
    "param_optimizer = list(model.named_parameters())\n",
    "no_decay = ['bias', 'gamma', 'beta']\n",
    "optimizer_grouped_parameters = [\n",
    "    {'params': [p for n, p in param_optimizer if n not in no_decay], 'weight_decay_rate': 0.01},\n",
    "    {'params': [p for n, p in param_optimizer if n in no_decay], 'weight_decay_rate': 0.0}]\n",
    "optimizer = BERTAdam(optimizer_grouped_parameters, lr=1e-3, warmup=0.1, t_total=line_statistics(\"datasets/doc2dial/train.tsv\"))\n",
    "\n",
    "res = EvaluationResult()"
   ]
  },
  {
   "cell_type": "code",
   "execution_count": null,
   "metadata": {},
   "outputs": [
    {
     "name": "stdout",
     "output_type": "stream",
     "text": [
      "Loss:  0.4605214595794678\n"
     ]
    },
    {
     "name": "stderr",
     "output_type": "stream",
     "text": [
      "huggingface/tokenizers: The current process just got forked, after parallelism has already been used. Disabling parallelism to avoid deadlocks...\n",
      "To disable this warning, you can either:\n",
      "\t- Avoid using `tokenizers` before the fork if possible\n",
      "\t- Explicitly set the environment variable TOKENIZERS_PARALLELISM=(true | false)\n"
     ]
    },
    {
     "name": "stdout",
     "output_type": "stream",
     "text": [
      "0.3558581274163725 0.0\n",
      "new best:  0.3558581274163725\n",
      "Loss:  0.460512638092041\n",
      "Loss:  0.4605025053024292\n",
      "Loss:  0.4605897068977356\n"
     ]
    }
   ],
   "source": [
    "steps = 0 \n",
    "d2vmodel.train()\n",
    "for epoch in range(10):\n",
    "    for step, batch in enumerate(train_loader):\n",
    "        batch = tuple(t.to(torch.device(\"mps\")) for t in batch)\n",
    "        output_dict = d2vmodel(batch, strategy='mean_by_role')\n",
    "        loss = output_dict['loss']\n",
    "\n",
    "        loss = loss / 1.0\n",
    "        optimizer.zero_grad()\n",
    "        loss.backward()\n",
    "        optimizer.step()\n",
    "\n",
    "\n",
    "        if steps % 20 == 0: \n",
    "            print(\"Loss: \", loss.item())\n",
    "        if steps % 100 == 0:\n",
    "            new_res = eval(d2vmodel)\n",
    "            print(new_res.acc, res.acc)\n",
    "            if new_res > res:\n",
    "                print(\"new best: \", new_res.acc)\n",
    "                torch.save(d2vmodel.state_dict(), \"dial2vec_model.bin\")\n",
    "                res = new_res\n",
    "\n",
    "\n",
    "            d2vmodel.train()\n",
    "\n",
    "        steps += 1 "
   ]
  }
 ],
 "metadata": {
  "kernelspec": {
   "display_name": "dial2vec",
   "language": "python",
   "name": "python3"
  },
  "language_info": {
   "codemirror_mode": {
    "name": "ipython",
    "version": 3
   },
   "file_extension": ".py",
   "mimetype": "text/x-python",
   "name": "python",
   "nbconvert_exporter": "python",
   "pygments_lexer": "ipython3",
   "version": "3.12.11"
  }
 },
 "nbformat": 4,
 "nbformat_minor": 2
}
